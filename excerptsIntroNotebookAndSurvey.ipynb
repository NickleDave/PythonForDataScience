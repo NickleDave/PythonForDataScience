{
 "cells": [
  {
   "cell_type": "code",
   "execution_count": 3,
   "metadata": {
    "collapsed": true,
    "slideshow": {
     "slide_type": "slide"
    }
   },
   "outputs": [],
   "source": [
    "%matplotlib notebook"
   ]
  },
  {
   "cell_type": "code",
   "execution_count": 4,
   "metadata": {
    "collapsed": true,
    "slideshow": {
     "slide_type": "fragment"
    }
   },
   "outputs": [],
   "source": [
    "import matplotlib.pyplot as plt\n",
    "import pandas as pd\n"
   ]
  },
  {
   "cell_type": "code",
   "execution_count": 5,
   "metadata": {
    "collapsed": true,
    "slideshow": {
     "slide_type": "fragment"
    }
   },
   "outputs": [],
   "source": [
    "plt.style.use('ggplot')"
   ]
  },
  {
   "cell_type": "code",
   "execution_count": 6,
   "metadata": {
    "collapsed": true,
    "slideshow": {
     "slide_type": "fragment"
    }
   },
   "outputs": [],
   "source": [
    "from IPython.display import Image, HTML"
   ]
  },
  {
   "cell_type": "code",
   "execution_count": 20,
   "metadata": {
    "collapsed": false,
    "slideshow": {
     "slide_type": "slide"
    }
   },
   "outputs": [
    {
     "name": "stdout",
     "output_type": "stream",
     "text": [
      "In fact, this is being run in Python! \n",
      "13\n"
     ]
    }
   ],
   "source": [
    "print('In fact, this is being run in Python! ')\n",
    "a = 3 + 2 + 6 +2\n",
    "\n",
    "\n",
    "print(a)\n",
    "\n"
   ]
  },
  {
   "cell_type": "code",
   "execution_count": 8,
   "metadata": {
    "collapsed": false,
    "slideshow": {
     "slide_type": "slide"
    }
   },
   "outputs": [
    {
     "data": {
      "text/html": [
       "<img src=\"http://www.pyzo.org/_images/pythonvsmatlab.png\" width=\"1000\"/>"
      ],
      "text/plain": [
       "<IPython.core.display.Image object>"
      ]
     },
     "execution_count": 8,
     "metadata": {},
     "output_type": "execute_result"
    }
   ],
   "source": [
    "Image(url='http://www.pyzo.org/_images/pythonvsmatlab.png',\n",
    "      width=1000)"
   ]
  },
  {
   "cell_type": "markdown",
   "metadata": {
    "slideshow": {
     "slide_type": "slide"
    }
   },
   "source": [
    "# Informal Class Poll: Raise Your Hand If:\n"
   ]
  },
  {
   "cell_type": "markdown",
   "metadata": {
    "slideshow": {
     "slide_type": "fragment"
    }
   },
   "source": [
    "##  You are a Bachelor's Student."
   ]
  },
  {
   "cell_type": "code",
   "execution_count": 21,
   "metadata": {
    "collapsed": true,
    "slideshow": {
     "slide_type": "fragment"
    }
   },
   "outputs": [],
   "source": [
    "education_level = {'bachelor': 7,\n",
    "                   'master': 3,\n",
    "                   'phd': 5,\n",
    "                   'postdoc': 1}"
   ]
  },
  {
   "cell_type": "markdown",
   "metadata": {
    "slideshow": {
     "slide_type": "subslide"
    }
   },
   "source": [
    "## Your laptop is running Windows."
   ]
  },
  {
   "cell_type": "code",
   "execution_count": 22,
   "metadata": {
    "collapsed": true,
    "slideshow": {
     "slide_type": "fragment"
    }
   },
   "outputs": [],
   "source": [
    "operating_system = {'windows': 5,\n",
    "                    'mac': 12,\n",
    "                    'linux': 1}"
   ]
  },
  {
   "cell_type": "markdown",
   "metadata": {
    "slideshow": {
     "slide_type": "subslide"
    }
   },
   "source": [
    "## Your Lab/work/class uses Python"
   ]
  },
  {
   "cell_type": "code",
   "execution_count": 23,
   "metadata": {
    "collapsed": true,
    "slideshow": {
     "slide_type": "fragment"
    }
   },
   "outputs": [],
   "source": [
    "lab_languages = {'python': 3,\n",
    "                 'matlab': 5,\n",
    "                 'R': 13,\n",
    "                 'julia': 0,\n",
    "                 'other': 5}"
   ]
  },
  {
   "cell_type": "markdown",
   "metadata": {
    "slideshow": {
     "slide_type": "subslide"
    }
   },
   "source": [
    "## You Have Experience in Python."
   ]
  },
  {
   "cell_type": "code",
   "execution_count": 24,
   "metadata": {
    "collapsed": true,
    "slideshow": {
     "slide_type": "subslide"
    }
   },
   "outputs": [],
   "source": [
    "languages = {'python': 3,\n",
    "             'matlab': 6,\n",
    "             'R': 13,\n",
    "             'julia': 0,\n",
    "             'other': 0}"
   ]
  },
  {
   "cell_type": "code",
   "execution_count": 25,
   "metadata": {
    "collapsed": false,
    "slideshow": {
     "slide_type": "subslide"
    }
   },
   "outputs": [],
   "source": [
    "\n",
    "def plot_class_poll():\n",
    "    fig, axes = plt.subplots(ncols=3, nrows=1)\n",
    "#     axes = [ax for sublist in axes for ax in sublist]\n",
    "    polls = [education_level, operating_system, lab_languages]\n",
    "    plot_types = ['bar', 'line', 'pie']\n",
    "    titles = ['Education', 'Programming Level', 'Lab Languages']\n",
    "    for ax, poll, plot_type, title in zip(axes, polls, plot_types, titles):\n",
    "        pd.Series(poll).plot(kind=plot_type, ax=ax, rot=40)\n",
    "        ax.set_title(title)\n",
    "        #ax.set_ylim(-.1, max(poll.values()))"
   ]
  },
  {
   "cell_type": "code",
   "execution_count": 26,
   "metadata": {
    "collapsed": false,
    "scrolled": true,
    "slideshow": {
     "slide_type": "subslide"
    }
   },
   "outputs": [
    {
     "data": {
      "application/javascript": [
       "/* Put everything inside the global mpl namespace */\n",
       "window.mpl = {};\n",
       "\n",
       "mpl.get_websocket_type = function() {\n",
       "    if (typeof(WebSocket) !== 'undefined') {\n",
       "        return WebSocket;\n",
       "    } else if (typeof(MozWebSocket) !== 'undefined') {\n",
       "        return MozWebSocket;\n",
       "    } else {\n",
       "        alert('Your browser does not have WebSocket support.' +\n",
       "              'Please try Chrome, Safari or Firefox ≥ 6. ' +\n",
       "              'Firefox 4 and 5 are also supported but you ' +\n",
       "              'have to enable WebSockets in about:config.');\n",
       "    };\n",
       "}\n",
       "\n",
       "mpl.figure = function(figure_id, websocket, ondownload, parent_element) {\n",
       "    this.id = figure_id;\n",
       "\n",
       "    this.ws = websocket;\n",
       "\n",
       "    this.supports_binary = (this.ws.binaryType != undefined);\n",
       "\n",
       "    if (!this.supports_binary) {\n",
       "        var warnings = document.getElementById(\"mpl-warnings\");\n",
       "        if (warnings) {\n",
       "            warnings.style.display = 'block';\n",
       "            warnings.textContent = (\n",
       "                \"This browser does not support binary websocket messages. \" +\n",
       "                    \"Performance may be slow.\");\n",
       "        }\n",
       "    }\n",
       "\n",
       "    this.imageObj = new Image();\n",
       "\n",
       "    this.context = undefined;\n",
       "    this.message = undefined;\n",
       "    this.canvas = undefined;\n",
       "    this.rubberband_canvas = undefined;\n",
       "    this.rubberband_context = undefined;\n",
       "    this.format_dropdown = undefined;\n",
       "\n",
       "    this.image_mode = 'full';\n",
       "\n",
       "    this.root = $('<div/>');\n",
       "    this._root_extra_style(this.root)\n",
       "    this.root.attr('style', 'display: inline-block');\n",
       "\n",
       "    $(parent_element).append(this.root);\n",
       "\n",
       "    this._init_header(this);\n",
       "    this._init_canvas(this);\n",
       "    this._init_toolbar(this);\n",
       "\n",
       "    var fig = this;\n",
       "\n",
       "    this.waiting = false;\n",
       "\n",
       "    this.ws.onopen =  function () {\n",
       "            fig.send_message(\"supports_binary\", {value: fig.supports_binary});\n",
       "            fig.send_message(\"send_image_mode\", {});\n",
       "            fig.send_message(\"refresh\", {});\n",
       "        }\n",
       "\n",
       "    this.imageObj.onload = function() {\n",
       "            if (fig.image_mode == 'full') {\n",
       "                // Full images could contain transparency (where diff images\n",
       "                // almost always do), so we need to clear the canvas so that\n",
       "                // there is no ghosting.\n",
       "                fig.context.clearRect(0, 0, fig.canvas.width, fig.canvas.height);\n",
       "            }\n",
       "            fig.context.drawImage(fig.imageObj, 0, 0);\n",
       "        };\n",
       "\n",
       "    this.imageObj.onunload = function() {\n",
       "        this.ws.close();\n",
       "    }\n",
       "\n",
       "    this.ws.onmessage = this._make_on_message_function(this);\n",
       "\n",
       "    this.ondownload = ondownload;\n",
       "}\n",
       "\n",
       "mpl.figure.prototype._init_header = function() {\n",
       "    var titlebar = $(\n",
       "        '<div class=\"ui-dialog-titlebar ui-widget-header ui-corner-all ' +\n",
       "        'ui-helper-clearfix\"/>');\n",
       "    var titletext = $(\n",
       "        '<div class=\"ui-dialog-title\" style=\"width: 100%; ' +\n",
       "        'text-align: center; padding: 3px;\"/>');\n",
       "    titlebar.append(titletext)\n",
       "    this.root.append(titlebar);\n",
       "    this.header = titletext[0];\n",
       "}\n",
       "\n",
       "\n",
       "\n",
       "mpl.figure.prototype._canvas_extra_style = function(canvas_div) {\n",
       "\n",
       "}\n",
       "\n",
       "\n",
       "mpl.figure.prototype._root_extra_style = function(canvas_div) {\n",
       "\n",
       "}\n",
       "\n",
       "mpl.figure.prototype._init_canvas = function() {\n",
       "    var fig = this;\n",
       "\n",
       "    var canvas_div = $('<div/>');\n",
       "\n",
       "    canvas_div.attr('style', 'position: relative; clear: both; outline: 0');\n",
       "\n",
       "    function canvas_keyboard_event(event) {\n",
       "        return fig.key_event(event, event['data']);\n",
       "    }\n",
       "\n",
       "    canvas_div.keydown('key_press', canvas_keyboard_event);\n",
       "    canvas_div.keyup('key_release', canvas_keyboard_event);\n",
       "    this.canvas_div = canvas_div\n",
       "    this._canvas_extra_style(canvas_div)\n",
       "    this.root.append(canvas_div);\n",
       "\n",
       "    var canvas = $('<canvas/>');\n",
       "    canvas.addClass('mpl-canvas');\n",
       "    canvas.attr('style', \"left: 0; top: 0; z-index: 0; outline: 0\")\n",
       "\n",
       "    this.canvas = canvas[0];\n",
       "    this.context = canvas[0].getContext(\"2d\");\n",
       "\n",
       "    var rubberband = $('<canvas/>');\n",
       "    rubberband.attr('style', \"position: absolute; left: 0; top: 0; z-index: 1;\")\n",
       "\n",
       "    var pass_mouse_events = true;\n",
       "\n",
       "    canvas_div.resizable({\n",
       "        start: function(event, ui) {\n",
       "            pass_mouse_events = false;\n",
       "        },\n",
       "        resize: function(event, ui) {\n",
       "            fig.request_resize(ui.size.width, ui.size.height);\n",
       "        },\n",
       "        stop: function(event, ui) {\n",
       "            pass_mouse_events = true;\n",
       "            fig.request_resize(ui.size.width, ui.size.height);\n",
       "        },\n",
       "    });\n",
       "\n",
       "    function mouse_event_fn(event) {\n",
       "        if (pass_mouse_events)\n",
       "            return fig.mouse_event(event, event['data']);\n",
       "    }\n",
       "\n",
       "    rubberband.mousedown('button_press', mouse_event_fn);\n",
       "    rubberband.mouseup('button_release', mouse_event_fn);\n",
       "    // Throttle sequential mouse events to 1 every 20ms.\n",
       "    rubberband.mousemove('motion_notify', mouse_event_fn);\n",
       "\n",
       "    rubberband.mouseenter('figure_enter', mouse_event_fn);\n",
       "    rubberband.mouseleave('figure_leave', mouse_event_fn);\n",
       "\n",
       "    canvas_div.on(\"wheel\", function (event) {\n",
       "        event = event.originalEvent;\n",
       "        event['data'] = 'scroll'\n",
       "        if (event.deltaY < 0) {\n",
       "            event.step = 1;\n",
       "        } else {\n",
       "            event.step = -1;\n",
       "        }\n",
       "        mouse_event_fn(event);\n",
       "    });\n",
       "\n",
       "    canvas_div.append(canvas);\n",
       "    canvas_div.append(rubberband);\n",
       "\n",
       "    this.rubberband = rubberband;\n",
       "    this.rubberband_canvas = rubberband[0];\n",
       "    this.rubberband_context = rubberband[0].getContext(\"2d\");\n",
       "    this.rubberband_context.strokeStyle = \"#000000\";\n",
       "\n",
       "    this._resize_canvas = function(width, height) {\n",
       "        // Keep the size of the canvas, canvas container, and rubber band\n",
       "        // canvas in synch.\n",
       "        canvas_div.css('width', width)\n",
       "        canvas_div.css('height', height)\n",
       "\n",
       "        canvas.attr('width', width);\n",
       "        canvas.attr('height', height);\n",
       "\n",
       "        rubberband.attr('width', width);\n",
       "        rubberband.attr('height', height);\n",
       "    }\n",
       "\n",
       "    // Set the figure to an initial 600x600px, this will subsequently be updated\n",
       "    // upon first draw.\n",
       "    this._resize_canvas(600, 600);\n",
       "\n",
       "    // Disable right mouse context menu.\n",
       "    $(this.rubberband_canvas).bind(\"contextmenu\",function(e){\n",
       "        return false;\n",
       "    });\n",
       "\n",
       "    function set_focus () {\n",
       "        canvas.focus();\n",
       "        canvas_div.focus();\n",
       "    }\n",
       "\n",
       "    window.setTimeout(set_focus, 100);\n",
       "}\n",
       "\n",
       "mpl.figure.prototype._init_toolbar = function() {\n",
       "    var fig = this;\n",
       "\n",
       "    var nav_element = $('<div/>')\n",
       "    nav_element.attr('style', 'width: 100%');\n",
       "    this.root.append(nav_element);\n",
       "\n",
       "    // Define a callback function for later on.\n",
       "    function toolbar_event(event) {\n",
       "        return fig.toolbar_button_onclick(event['data']);\n",
       "    }\n",
       "    function toolbar_mouse_event(event) {\n",
       "        return fig.toolbar_button_onmouseover(event['data']);\n",
       "    }\n",
       "\n",
       "    for(var toolbar_ind in mpl.toolbar_items) {\n",
       "        var name = mpl.toolbar_items[toolbar_ind][0];\n",
       "        var tooltip = mpl.toolbar_items[toolbar_ind][1];\n",
       "        var image = mpl.toolbar_items[toolbar_ind][2];\n",
       "        var method_name = mpl.toolbar_items[toolbar_ind][3];\n",
       "\n",
       "        if (!name) {\n",
       "            // put a spacer in here.\n",
       "            continue;\n",
       "        }\n",
       "        var button = $('<button/>');\n",
       "        button.addClass('ui-button ui-widget ui-state-default ui-corner-all ' +\n",
       "                        'ui-button-icon-only');\n",
       "        button.attr('role', 'button');\n",
       "        button.attr('aria-disabled', 'false');\n",
       "        button.click(method_name, toolbar_event);\n",
       "        button.mouseover(tooltip, toolbar_mouse_event);\n",
       "\n",
       "        var icon_img = $('<span/>');\n",
       "        icon_img.addClass('ui-button-icon-primary ui-icon');\n",
       "        icon_img.addClass(image);\n",
       "        icon_img.addClass('ui-corner-all');\n",
       "\n",
       "        var tooltip_span = $('<span/>');\n",
       "        tooltip_span.addClass('ui-button-text');\n",
       "        tooltip_span.html(tooltip);\n",
       "\n",
       "        button.append(icon_img);\n",
       "        button.append(tooltip_span);\n",
       "\n",
       "        nav_element.append(button);\n",
       "    }\n",
       "\n",
       "    var fmt_picker_span = $('<span/>');\n",
       "\n",
       "    var fmt_picker = $('<select/>');\n",
       "    fmt_picker.addClass('mpl-toolbar-option ui-widget ui-widget-content');\n",
       "    fmt_picker_span.append(fmt_picker);\n",
       "    nav_element.append(fmt_picker_span);\n",
       "    this.format_dropdown = fmt_picker[0];\n",
       "\n",
       "    for (var ind in mpl.extensions) {\n",
       "        var fmt = mpl.extensions[ind];\n",
       "        var option = $(\n",
       "            '<option/>', {selected: fmt === mpl.default_extension}).html(fmt);\n",
       "        fmt_picker.append(option)\n",
       "    }\n",
       "\n",
       "    // Add hover states to the ui-buttons\n",
       "    $( \".ui-button\" ).hover(\n",
       "        function() { $(this).addClass(\"ui-state-hover\");},\n",
       "        function() { $(this).removeClass(\"ui-state-hover\");}\n",
       "    );\n",
       "\n",
       "    var status_bar = $('<span class=\"mpl-message\"/>');\n",
       "    nav_element.append(status_bar);\n",
       "    this.message = status_bar[0];\n",
       "}\n",
       "\n",
       "mpl.figure.prototype.request_resize = function(x_pixels, y_pixels) {\n",
       "    // Request matplotlib to resize the figure. Matplotlib will then trigger a resize in the client,\n",
       "    // which will in turn request a refresh of the image.\n",
       "    this.send_message('resize', {'width': x_pixels, 'height': y_pixels});\n",
       "}\n",
       "\n",
       "mpl.figure.prototype.send_message = function(type, properties) {\n",
       "    properties['type'] = type;\n",
       "    properties['figure_id'] = this.id;\n",
       "    this.ws.send(JSON.stringify(properties));\n",
       "}\n",
       "\n",
       "mpl.figure.prototype.send_draw_message = function() {\n",
       "    if (!this.waiting) {\n",
       "        this.waiting = true;\n",
       "        this.ws.send(JSON.stringify({type: \"draw\", figure_id: this.id}));\n",
       "    }\n",
       "}\n",
       "\n",
       "\n",
       "mpl.figure.prototype.handle_save = function(fig, msg) {\n",
       "    var format_dropdown = fig.format_dropdown;\n",
       "    var format = format_dropdown.options[format_dropdown.selectedIndex].value;\n",
       "    fig.ondownload(fig, format);\n",
       "}\n",
       "\n",
       "\n",
       "mpl.figure.prototype.handle_resize = function(fig, msg) {\n",
       "    var size = msg['size'];\n",
       "    if (size[0] != fig.canvas.width || size[1] != fig.canvas.height) {\n",
       "        fig._resize_canvas(size[0], size[1]);\n",
       "        fig.send_message(\"refresh\", {});\n",
       "    };\n",
       "}\n",
       "\n",
       "mpl.figure.prototype.handle_rubberband = function(fig, msg) {\n",
       "    var x0 = msg['x0'];\n",
       "    var y0 = fig.canvas.height - msg['y0'];\n",
       "    var x1 = msg['x1'];\n",
       "    var y1 = fig.canvas.height - msg['y1'];\n",
       "    x0 = Math.floor(x0) + 0.5;\n",
       "    y0 = Math.floor(y0) + 0.5;\n",
       "    x1 = Math.floor(x1) + 0.5;\n",
       "    y1 = Math.floor(y1) + 0.5;\n",
       "    var min_x = Math.min(x0, x1);\n",
       "    var min_y = Math.min(y0, y1);\n",
       "    var width = Math.abs(x1 - x0);\n",
       "    var height = Math.abs(y1 - y0);\n",
       "\n",
       "    fig.rubberband_context.clearRect(\n",
       "        0, 0, fig.canvas.width, fig.canvas.height);\n",
       "\n",
       "    fig.rubberband_context.strokeRect(min_x, min_y, width, height);\n",
       "}\n",
       "\n",
       "mpl.figure.prototype.handle_figure_label = function(fig, msg) {\n",
       "    // Updates the figure title.\n",
       "    fig.header.textContent = msg['label'];\n",
       "}\n",
       "\n",
       "mpl.figure.prototype.handle_cursor = function(fig, msg) {\n",
       "    var cursor = msg['cursor'];\n",
       "    switch(cursor)\n",
       "    {\n",
       "    case 0:\n",
       "        cursor = 'pointer';\n",
       "        break;\n",
       "    case 1:\n",
       "        cursor = 'default';\n",
       "        break;\n",
       "    case 2:\n",
       "        cursor = 'crosshair';\n",
       "        break;\n",
       "    case 3:\n",
       "        cursor = 'move';\n",
       "        break;\n",
       "    }\n",
       "    fig.rubberband_canvas.style.cursor = cursor;\n",
       "}\n",
       "\n",
       "mpl.figure.prototype.handle_message = function(fig, msg) {\n",
       "    fig.message.textContent = msg['message'];\n",
       "}\n",
       "\n",
       "mpl.figure.prototype.handle_draw = function(fig, msg) {\n",
       "    // Request the server to send over a new figure.\n",
       "    fig.send_draw_message();\n",
       "}\n",
       "\n",
       "mpl.figure.prototype.handle_image_mode = function(fig, msg) {\n",
       "    fig.image_mode = msg['mode'];\n",
       "}\n",
       "\n",
       "mpl.figure.prototype.updated_canvas_event = function() {\n",
       "    // Called whenever the canvas gets updated.\n",
       "    this.send_message(\"ack\", {});\n",
       "}\n",
       "\n",
       "// A function to construct a web socket function for onmessage handling.\n",
       "// Called in the figure constructor.\n",
       "mpl.figure.prototype._make_on_message_function = function(fig) {\n",
       "    return function socket_on_message(evt) {\n",
       "        if (evt.data instanceof Blob) {\n",
       "            /* FIXME: We get \"Resource interpreted as Image but\n",
       "             * transferred with MIME type text/plain:\" errors on\n",
       "             * Chrome.  But how to set the MIME type?  It doesn't seem\n",
       "             * to be part of the websocket stream */\n",
       "            evt.data.type = \"image/png\";\n",
       "\n",
       "            /* Free the memory for the previous frames */\n",
       "            if (fig.imageObj.src) {\n",
       "                (window.URL || window.webkitURL).revokeObjectURL(\n",
       "                    fig.imageObj.src);\n",
       "            }\n",
       "\n",
       "            fig.imageObj.src = (window.URL || window.webkitURL).createObjectURL(\n",
       "                evt.data);\n",
       "            fig.updated_canvas_event();\n",
       "            fig.waiting = false;\n",
       "            return;\n",
       "        }\n",
       "        else if (typeof evt.data === 'string' && evt.data.slice(0, 21) == \"data:image/png;base64\") {\n",
       "            fig.imageObj.src = evt.data;\n",
       "            fig.updated_canvas_event();\n",
       "            fig.waiting = false;\n",
       "            return;\n",
       "        }\n",
       "\n",
       "        var msg = JSON.parse(evt.data);\n",
       "        var msg_type = msg['type'];\n",
       "\n",
       "        // Call the  \"handle_{type}\" callback, which takes\n",
       "        // the figure and JSON message as its only arguments.\n",
       "        try {\n",
       "            var callback = fig[\"handle_\" + msg_type];\n",
       "        } catch (e) {\n",
       "            console.log(\"No handler for the '\" + msg_type + \"' message type: \", msg);\n",
       "            return;\n",
       "        }\n",
       "\n",
       "        if (callback) {\n",
       "            try {\n",
       "                // console.log(\"Handling '\" + msg_type + \"' message: \", msg);\n",
       "                callback(fig, msg);\n",
       "            } catch (e) {\n",
       "                console.log(\"Exception inside the 'handler_\" + msg_type + \"' callback:\", e, e.stack, msg);\n",
       "            }\n",
       "        }\n",
       "    };\n",
       "}\n",
       "\n",
       "// from http://stackoverflow.com/questions/1114465/getting-mouse-location-in-canvas\n",
       "mpl.findpos = function(e) {\n",
       "    //this section is from http://www.quirksmode.org/js/events_properties.html\n",
       "    var targ;\n",
       "    if (!e)\n",
       "        e = window.event;\n",
       "    if (e.target)\n",
       "        targ = e.target;\n",
       "    else if (e.srcElement)\n",
       "        targ = e.srcElement;\n",
       "    if (targ.nodeType == 3) // defeat Safari bug\n",
       "        targ = targ.parentNode;\n",
       "\n",
       "    // jQuery normalizes the pageX and pageY\n",
       "    // pageX,Y are the mouse positions relative to the document\n",
       "    // offset() returns the position of the element relative to the document\n",
       "    var x = e.pageX - $(targ).offset().left;\n",
       "    var y = e.pageY - $(targ).offset().top;\n",
       "\n",
       "    return {\"x\": x, \"y\": y};\n",
       "};\n",
       "\n",
       "/*\n",
       " * return a copy of an object with only non-object keys\n",
       " * we need this to avoid circular references\n",
       " * http://stackoverflow.com/a/24161582/3208463\n",
       " */\n",
       "function simpleKeys (original) {\n",
       "  return Object.keys(original).reduce(function (obj, key) {\n",
       "    if (typeof original[key] !== 'object')\n",
       "        obj[key] = original[key]\n",
       "    return obj;\n",
       "  }, {});\n",
       "}\n",
       "\n",
       "mpl.figure.prototype.mouse_event = function(event, name) {\n",
       "    var canvas_pos = mpl.findpos(event)\n",
       "\n",
       "    if (name === 'button_press')\n",
       "    {\n",
       "        this.canvas.focus();\n",
       "        this.canvas_div.focus();\n",
       "    }\n",
       "\n",
       "    var x = canvas_pos.x;\n",
       "    var y = canvas_pos.y;\n",
       "\n",
       "    this.send_message(name, {x: x, y: y, button: event.button,\n",
       "                             step: event.step,\n",
       "                             guiEvent: simpleKeys(event)});\n",
       "\n",
       "    /* This prevents the web browser from automatically changing to\n",
       "     * the text insertion cursor when the button is pressed.  We want\n",
       "     * to control all of the cursor setting manually through the\n",
       "     * 'cursor' event from matplotlib */\n",
       "    event.preventDefault();\n",
       "    return false;\n",
       "}\n",
       "\n",
       "mpl.figure.prototype._key_event_extra = function(event, name) {\n",
       "    // Handle any extra behaviour associated with a key event\n",
       "}\n",
       "\n",
       "mpl.figure.prototype.key_event = function(event, name) {\n",
       "\n",
       "    // Prevent repeat events\n",
       "    if (name == 'key_press')\n",
       "    {\n",
       "        if (event.which === this._key)\n",
       "            return;\n",
       "        else\n",
       "            this._key = event.which;\n",
       "    }\n",
       "    if (name == 'key_release')\n",
       "        this._key = null;\n",
       "\n",
       "    var value = '';\n",
       "    if (event.ctrlKey && event.which != 17)\n",
       "        value += \"ctrl+\";\n",
       "    if (event.altKey && event.which != 18)\n",
       "        value += \"alt+\";\n",
       "    if (event.shiftKey && event.which != 16)\n",
       "        value += \"shift+\";\n",
       "\n",
       "    value += 'k';\n",
       "    value += event.which.toString();\n",
       "\n",
       "    this._key_event_extra(event, name);\n",
       "\n",
       "    this.send_message(name, {key: value,\n",
       "                             guiEvent: simpleKeys(event)});\n",
       "    return false;\n",
       "}\n",
       "\n",
       "mpl.figure.prototype.toolbar_button_onclick = function(name) {\n",
       "    if (name == 'download') {\n",
       "        this.handle_save(this, null);\n",
       "    } else {\n",
       "        this.send_message(\"toolbar_button\", {name: name});\n",
       "    }\n",
       "};\n",
       "\n",
       "mpl.figure.prototype.toolbar_button_onmouseover = function(tooltip) {\n",
       "    this.message.textContent = tooltip;\n",
       "};\n",
       "mpl.toolbar_items = [[\"Home\", \"Reset original view\", \"fa fa-home icon-home\", \"home\"], [\"Back\", \"Back to  previous view\", \"fa fa-arrow-left icon-arrow-left\", \"back\"], [\"Forward\", \"Forward to next view\", \"fa fa-arrow-right icon-arrow-right\", \"forward\"], [\"\", \"\", \"\", \"\"], [\"Pan\", \"Pan axes with left mouse, zoom with right\", \"fa fa-arrows icon-move\", \"pan\"], [\"Zoom\", \"Zoom to rectangle\", \"fa fa-square-o icon-check-empty\", \"zoom\"], [\"\", \"\", \"\", \"\"], [\"Download\", \"Download plot\", \"fa fa-floppy-o icon-save\", \"download\"]];\n",
       "\n",
       "mpl.extensions = [\"eps\", \"jpeg\", \"pdf\", \"png\", \"ps\", \"raw\", \"svg\", \"tif\"];\n",
       "\n",
       "mpl.default_extension = \"png\";var comm_websocket_adapter = function(comm) {\n",
       "    // Create a \"websocket\"-like object which calls the given IPython comm\n",
       "    // object with the appropriate methods. Currently this is a non binary\n",
       "    // socket, so there is still some room for performance tuning.\n",
       "    var ws = {};\n",
       "\n",
       "    ws.close = function() {\n",
       "        comm.close()\n",
       "    };\n",
       "    ws.send = function(m) {\n",
       "        //console.log('sending', m);\n",
       "        comm.send(m);\n",
       "    };\n",
       "    // Register the callback with on_msg.\n",
       "    comm.on_msg(function(msg) {\n",
       "        //console.log('receiving', msg['content']['data'], msg);\n",
       "        // Pass the mpl event to the overriden (by mpl) onmessage function.\n",
       "        ws.onmessage(msg['content']['data'])\n",
       "    });\n",
       "    return ws;\n",
       "}\n",
       "\n",
       "mpl.mpl_figure_comm = function(comm, msg) {\n",
       "    // This is the function which gets called when the mpl process\n",
       "    // starts-up an IPython Comm through the \"matplotlib\" channel.\n",
       "\n",
       "    var id = msg.content.data.id;\n",
       "    // Get hold of the div created by the display call when the Comm\n",
       "    // socket was opened in Python.\n",
       "    var element = $(\"#\" + id);\n",
       "    var ws_proxy = comm_websocket_adapter(comm)\n",
       "\n",
       "    function ondownload(figure, format) {\n",
       "        window.open(figure.imageObj.src);\n",
       "    }\n",
       "\n",
       "    var fig = new mpl.figure(id, ws_proxy,\n",
       "                           ondownload,\n",
       "                           element.get(0));\n",
       "\n",
       "    // Call onopen now - mpl needs it, as it is assuming we've passed it a real\n",
       "    // web socket which is closed, not our websocket->open comm proxy.\n",
       "    ws_proxy.onopen();\n",
       "\n",
       "    fig.parent_element = element.get(0);\n",
       "    fig.cell_info = mpl.find_output_cell(\"<div id='\" + id + \"'></div>\");\n",
       "    if (!fig.cell_info) {\n",
       "        console.error(\"Failed to find cell for figure\", id, fig);\n",
       "        return;\n",
       "    }\n",
       "\n",
       "    var output_index = fig.cell_info[2]\n",
       "    var cell = fig.cell_info[0];\n",
       "\n",
       "};\n",
       "\n",
       "mpl.figure.prototype.handle_close = function(fig, msg) {\n",
       "    fig.root.unbind('remove')\n",
       "\n",
       "    // Update the output cell to use the data from the current canvas.\n",
       "    fig.push_to_output();\n",
       "    var dataURL = fig.canvas.toDataURL();\n",
       "    // Re-enable the keyboard manager in IPython - without this line, in FF,\n",
       "    // the notebook keyboard shortcuts fail.\n",
       "    IPython.keyboard_manager.enable()\n",
       "    $(fig.parent_element).html('<img src=\"' + dataURL + '\">');\n",
       "    fig.close_ws(fig, msg);\n",
       "}\n",
       "\n",
       "mpl.figure.prototype.close_ws = function(fig, msg){\n",
       "    fig.send_message('closing', msg);\n",
       "    // fig.ws.close()\n",
       "}\n",
       "\n",
       "mpl.figure.prototype.push_to_output = function(remove_interactive) {\n",
       "    // Turn the data on the canvas into data in the output cell.\n",
       "    var dataURL = this.canvas.toDataURL();\n",
       "    this.cell_info[1]['text/html'] = '<img src=\"' + dataURL + '\">';\n",
       "}\n",
       "\n",
       "mpl.figure.prototype.updated_canvas_event = function() {\n",
       "    // Tell IPython that the notebook contents must change.\n",
       "    IPython.notebook.set_dirty(true);\n",
       "    this.send_message(\"ack\", {});\n",
       "    var fig = this;\n",
       "    // Wait a second, then push the new image to the DOM so\n",
       "    // that it is saved nicely (might be nice to debounce this).\n",
       "    setTimeout(function () { fig.push_to_output() }, 1000);\n",
       "}\n",
       "\n",
       "mpl.figure.prototype._init_toolbar = function() {\n",
       "    var fig = this;\n",
       "\n",
       "    var nav_element = $('<div/>')\n",
       "    nav_element.attr('style', 'width: 100%');\n",
       "    this.root.append(nav_element);\n",
       "\n",
       "    // Define a callback function for later on.\n",
       "    function toolbar_event(event) {\n",
       "        return fig.toolbar_button_onclick(event['data']);\n",
       "    }\n",
       "    function toolbar_mouse_event(event) {\n",
       "        return fig.toolbar_button_onmouseover(event['data']);\n",
       "    }\n",
       "\n",
       "    for(var toolbar_ind in mpl.toolbar_items){\n",
       "        var name = mpl.toolbar_items[toolbar_ind][0];\n",
       "        var tooltip = mpl.toolbar_items[toolbar_ind][1];\n",
       "        var image = mpl.toolbar_items[toolbar_ind][2];\n",
       "        var method_name = mpl.toolbar_items[toolbar_ind][3];\n",
       "\n",
       "        if (!name) { continue; };\n",
       "\n",
       "        var button = $('<button class=\"btn btn-default\" href=\"#\" title=\"' + name + '\"><i class=\"fa ' + image + ' fa-lg\"></i></button>');\n",
       "        button.click(method_name, toolbar_event);\n",
       "        button.mouseover(tooltip, toolbar_mouse_event);\n",
       "        nav_element.append(button);\n",
       "    }\n",
       "\n",
       "    // Add the status bar.\n",
       "    var status_bar = $('<span class=\"mpl-message\" style=\"text-align:right; float: right;\"/>');\n",
       "    nav_element.append(status_bar);\n",
       "    this.message = status_bar[0];\n",
       "\n",
       "    // Add the close button to the window.\n",
       "    var buttongrp = $('<div class=\"btn-group inline pull-right\"></div>');\n",
       "    var button = $('<button class=\"btn btn-mini btn-primary\" href=\"#\" title=\"Stop Interaction\"><i class=\"fa fa-power-off icon-remove icon-large\"></i></button>');\n",
       "    button.click(function (evt) { fig.handle_close(fig, {}); } );\n",
       "    button.mouseover('Stop Interaction', toolbar_mouse_event);\n",
       "    buttongrp.append(button);\n",
       "    var titlebar = this.root.find($('.ui-dialog-titlebar'));\n",
       "    titlebar.prepend(buttongrp);\n",
       "}\n",
       "\n",
       "mpl.figure.prototype._root_extra_style = function(el){\n",
       "    var fig = this\n",
       "    el.on(\"remove\", function(){\n",
       "\tfig.close_ws(fig, {});\n",
       "    });\n",
       "}\n",
       "\n",
       "mpl.figure.prototype._canvas_extra_style = function(el){\n",
       "    // this is important to make the div 'focusable\n",
       "    el.attr('tabindex', 0)\n",
       "    // reach out to IPython and tell the keyboard manager to turn it's self\n",
       "    // off when our div gets focus\n",
       "\n",
       "    // location in version 3\n",
       "    if (IPython.notebook.keyboard_manager) {\n",
       "        IPython.notebook.keyboard_manager.register_events(el);\n",
       "    }\n",
       "    else {\n",
       "        // location in version 2\n",
       "        IPython.keyboard_manager.register_events(el);\n",
       "    }\n",
       "\n",
       "}\n",
       "\n",
       "mpl.figure.prototype._key_event_extra = function(event, name) {\n",
       "    var manager = IPython.notebook.keyboard_manager;\n",
       "    if (!manager)\n",
       "        manager = IPython.keyboard_manager;\n",
       "\n",
       "    // Check for shift+enter\n",
       "    if (event.shiftKey && event.which == 13) {\n",
       "        this.canvas_div.blur();\n",
       "        event.shiftKey = false;\n",
       "        // Send a \"J\" for go to next cell\n",
       "        event.which = 74;\n",
       "        event.keyCode = 74;\n",
       "        manager.command_mode();\n",
       "        manager.handle_keydown(event);\n",
       "    }\n",
       "}\n",
       "\n",
       "mpl.figure.prototype.handle_save = function(fig, msg) {\n",
       "    fig.ondownload(fig, null);\n",
       "}\n",
       "\n",
       "\n",
       "mpl.find_output_cell = function(html_output) {\n",
       "    // Return the cell and output element which can be found *uniquely* in the notebook.\n",
       "    // Note - this is a bit hacky, but it is done because the \"notebook_saving.Notebook\"\n",
       "    // IPython event is triggered only after the cells have been serialised, which for\n",
       "    // our purposes (turning an active figure into a static one), is too late.\n",
       "    var cells = IPython.notebook.get_cells();\n",
       "    var ncells = cells.length;\n",
       "    for (var i=0; i<ncells; i++) {\n",
       "        var cell = cells[i];\n",
       "        if (cell.cell_type === 'code'){\n",
       "            for (var j=0; j<cell.output_area.outputs.length; j++) {\n",
       "                var data = cell.output_area.outputs[j];\n",
       "                if (data.data) {\n",
       "                    // IPython >= 3 moved mimebundle to data attribute of output\n",
       "                    data = data.data;\n",
       "                }\n",
       "                if (data['text/html'] == html_output) {\n",
       "                    return [cell, data, j];\n",
       "                }\n",
       "            }\n",
       "        }\n",
       "    }\n",
       "}\n",
       "\n",
       "// Register the function which deals with the matplotlib target/channel.\n",
       "// The kernel may be null if the page has been refreshed.\n",
       "if (IPython.notebook.kernel != null) {\n",
       "    IPython.notebook.kernel.comm_manager.register_target('matplotlib', mpl.mpl_figure_comm);\n",
       "}\n"
      ],
      "text/plain": [
       "<IPython.core.display.Javascript object>"
      ]
     },
     "metadata": {},
     "output_type": "display_data"
    },
    {
     "data": {
      "text/html": [
       "<img src=\"data:image/png;base64,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\">"
      ],
      "text/plain": [
       "<IPython.core.display.HTML object>"
      ]
     },
     "metadata": {},
     "output_type": "display_data"
    }
   ],
   "source": [
    "plot_class_poll()"
   ]
  },
  {
   "cell_type": "markdown",
   "metadata": {
    "slideshow": {
     "slide_type": "slide"
    }
   },
   "source": [
    "# Development Tools: IPython and Jupyter Notebook"
   ]
  },
  {
   "cell_type": "markdown",
   "metadata": {
    "slideshow": {
     "slide_type": "subslide"
    }
   },
   "source": [
    "# IPython (\"Interactive Python\")\n",
    "\n",
    "IPython is a Full-Featured interactive console for Python."
   ]
  },
  {
   "cell_type": "code",
   "execution_count": 13,
   "metadata": {
    "collapsed": false,
    "slideshow": {
     "slide_type": "subslide"
    }
   },
   "outputs": [
    {
     "data": {
      "text/html": [
       "<iframe src=\"https://ipython.org/ipython-doc/2/interactive/tutorial.html\" width=900 height=500></iframe>"
      ],
      "text/plain": [
       "<IPython.core.display.HTML object>"
      ]
     },
     "execution_count": 13,
     "metadata": {},
     "output_type": "execute_result"
    }
   ],
   "source": [
    "HTML('<iframe src=\"https://ipython.org/ipython-doc/2/interactive/tutorial.html\" width=900 height=500></iframe>')"
   ]
  },
  {
   "cell_type": "markdown",
   "metadata": {
    "slideshow": {
     "slide_type": "subslide"
    }
   },
   "source": [
    "# The Notebook (aka IPython Notebook, Jupyter Notebook)"
   ]
  },
  {
   "cell_type": "code",
   "execution_count": 14,
   "metadata": {
    "collapsed": false,
    "slideshow": {
     "slide_type": "subslide"
    }
   },
   "outputs": [
    {
     "data": {
      "text/html": [
       "<img src=\"http://jupyter.org/assets/jupyterpreview.png\" width=\"800\"/>"
      ],
      "text/plain": [
       "<IPython.core.display.Image object>"
      ]
     },
     "execution_count": 14,
     "metadata": {},
     "output_type": "execute_result"
    }
   ],
   "source": [
    "Image(url='http://jupyter.org/assets/jupyterpreview.png', width=800)"
   ]
  },
  {
   "cell_type": "markdown",
   "metadata": {
    "slideshow": {
     "slide_type": "slide"
    }
   },
   "source": [
    "## Operators (ex: +, -, /, * ) Do Different Things to Different Types"
   ]
  },
  {
   "cell_type": "code",
   "execution_count": 19,
   "metadata": {
    "collapsed": false,
    "slideshow": {
     "slide_type": "fragment"
    }
   },
   "outputs": [
    {
     "data": {
      "text/plain": [
       "8"
      ]
     },
     "execution_count": 19,
     "metadata": {},
     "output_type": "execute_result"
    }
   ],
   "source": [
    "3 + 5"
   ]
  },
  {
   "cell_type": "code",
   "execution_count": 57,
   "metadata": {
    "collapsed": false,
    "slideshow": {
     "slide_type": "fragment"
    }
   },
   "outputs": [
    {
     "data": {
      "text/plain": [
       "2.692307692307692"
      ]
     },
     "execution_count": 57,
     "metadata": {},
     "output_type": "execute_result"
    }
   ],
   "source": [
    "7 / 2.6"
   ]
  },
  {
   "cell_type": "code",
   "execution_count": 24,
   "metadata": {
    "collapsed": false,
    "slideshow": {
     "slide_type": "fragment"
    }
   },
   "outputs": [
    {
     "name": "stdout",
     "output_type": "stream",
     "text": [
      "HiHiHiHiHi\n"
     ]
    },
    {
     "data": {
      "text/plain": [
       "['Hi', 'Hi', 'Hi', 'Hi', 'Hi']"
      ]
     },
     "execution_count": 24,
     "metadata": {},
     "output_type": "execute_result"
    }
   ],
   "source": [
    "print('Hi' * 5)\n",
    "['Hi'] * 5"
   ]
  },
  {
   "cell_type": "markdown",
   "metadata": {
    "slideshow": {
     "slide_type": "slide"
    }
   },
   "source": [
    "## Assignment with Operators"
   ]
  },
  {
   "cell_type": "code",
   "execution_count": 63,
   "metadata": {
    "collapsed": false,
    "slideshow": {
     "slide_type": "fragment"
    }
   },
   "outputs": [
    {
     "data": {
      "text/plain": [
       "10"
      ]
     },
     "execution_count": 63,
     "metadata": {},
     "output_type": "execute_result"
    }
   ],
   "source": [
    "a = 5\n",
    "a = a + 2\n",
    "a"
   ]
  },
  {
   "cell_type": "markdown",
   "metadata": {
    "slideshow": {
     "slide_type": "slide"
    }
   },
   "source": [
    "# Essential String Methods"
   ]
  },
  {
   "cell_type": "code",
   "execution_count": 18,
   "metadata": {
    "collapsed": false,
    "slideshow": {
     "slide_type": "fragment"
    }
   },
   "outputs": [],
   "source": [
    "example_string = 'Mary had a little lamb named Sue.'\n",
    "big_string = example_string.upper()"
   ]
  },
  {
   "cell_type": "code",
   "execution_count": 19,
   "metadata": {
    "collapsed": false,
    "slideshow": {
     "slide_type": "fragment"
    }
   },
   "outputs": [
    {
     "data": {
      "text/plain": [
       "'MARY HAD A LITTLE LAMB NAMED SUE.'"
      ]
     },
     "execution_count": 19,
     "metadata": {},
     "output_type": "execute_result"
    }
   ],
   "source": [
    "example_string.upper()"
   ]
  },
  {
   "cell_type": "code",
   "execution_count": 20,
   "metadata": {
    "collapsed": false,
    "slideshow": {
     "slide_type": "fragment"
    }
   },
   "outputs": [
    {
     "data": {
      "text/plain": [
       "-1"
      ]
     },
     "execution_count": 20,
     "metadata": {},
     "output_type": "execute_result"
    }
   ],
   "source": [
    "example_string.find('a', 2, 5)"
   ]
  },
  {
   "cell_type": "markdown",
   "metadata": {
    "slideshow": {
     "slide_type": "slide"
    }
   },
   "source": [
    "# Homework\n",
    "\n",
    "  1. Finish Codeacademy Tutorial!\n",
    "  2. Get Everything running on your Laptop\n",
    "  \n",
    "Extra Challenge:  http://www.codewars.com\n",
    "\n",
    "Full 10 part SciPy Lectures may be downloaded from: https://github.com/neuroneuro15/SciPyCourse2016"
   ]
  },
  {
   "cell_type": "markdown",
   "metadata": {
    "slideshow": {
     "slide_type": "slide"
    }
   },
   "source": [
    "# Quick Review"
   ]
  },
  {
   "cell_type": "markdown",
   "metadata": {
    "slideshow": {
     "slide_type": "fragment"
    }
   },
   "source": [
    "  - What are some good reasons to use Python?"
   ]
  },
  {
   "cell_type": "markdown",
   "metadata": {
    "slideshow": {
     "slide_type": "slide"
    }
   },
   "source": [
    "# Extra Exploration: \"Everything is an Object\""
   ]
  },
  {
   "cell_type": "code",
   "execution_count": 33,
   "metadata": {
    "collapsed": false,
    "slideshow": {
     "slide_type": "fragment"
    }
   },
   "outputs": [
    {
     "data": {
      "text/plain": [
       "module"
      ]
     },
     "execution_count": 33,
     "metadata": {},
     "output_type": "execute_result"
    }
   ],
   "source": [
    "import math\n",
    "type(math)"
   ]
  },
  {
   "cell_type": "code",
   "execution_count": 34,
   "metadata": {
    "collapsed": false,
    "slideshow": {
     "slide_type": "fragment"
    }
   },
   "outputs": [
    {
     "data": {
      "text/plain": [
       "int"
      ]
     },
     "execution_count": 34,
     "metadata": {},
     "output_type": "execute_result"
    }
   ],
   "source": [
    "a = 3\n",
    "type(3)"
   ]
  },
  {
   "cell_type": "code",
   "execution_count": 35,
   "metadata": {
    "collapsed": false,
    "slideshow": {
     "slide_type": "subslide"
    }
   },
   "outputs": [
    {
     "data": {
      "text/plain": [
       "builtin_function_or_method"
      ]
     },
     "execution_count": 35,
     "metadata": {},
     "output_type": "execute_result"
    }
   ],
   "source": [
    "type(max)"
   ]
  },
  {
   "cell_type": "code",
   "execution_count": 36,
   "metadata": {
    "collapsed": false,
    "slideshow": {
     "slide_type": "fragment"
    }
   },
   "outputs": [
    {
     "data": {
      "text/plain": [
       "type"
      ]
     },
     "execution_count": 36,
     "metadata": {},
     "output_type": "execute_result"
    }
   ],
   "source": [
    "type(int)"
   ]
  },
  {
   "cell_type": "code",
   "execution_count": 37,
   "metadata": {
    "collapsed": false,
    "slideshow": {
     "slide_type": "fragment"
    }
   },
   "outputs": [
    {
     "data": {
      "text/plain": [
       "type"
      ]
     },
     "execution_count": 37,
     "metadata": {},
     "output_type": "execute_result"
    }
   ],
   "source": [
    "type(type)"
   ]
  },
  {
   "cell_type": "code",
   "execution_count": 38,
   "metadata": {
    "collapsed": true,
    "slideshow": {
     "slide_type": "fragment"
    }
   },
   "outputs": [],
   "source": [
    "a = 3\n",
    "b = 10"
   ]
  },
  {
   "cell_type": "code",
   "execution_count": 32,
   "metadata": {
    "collapsed": false,
    "slideshow": {
     "slide_type": "fragment"
    }
   },
   "outputs": [
    {
     "name": "stdout",
     "output_type": "stream",
     "text": [
      "True\n"
     ]
    }
   ],
   "source": [
    "if a > b:\n",
    "    print('True')\n",
    "else:\n",
    "    print('False')"
   ]
  },
  {
   "cell_type": "markdown",
   "metadata": {
    "slideshow": {
     "slide_type": "slide"
    }
   },
   "source": [
    "## Aside: Python and \"Meaningful Whitespace\"\n",
    "  - Mixing spaces and tabs will result in errors!\n",
    "  - Same number of spaces on every line!\n",
    "  - Rule: If there's a colon, you must indent\n"
   ]
  }
 ],
 "metadata": {
  "anaconda-cloud": {},
  "celltoolbar": "Slideshow",
  "kernelspec": {
   "display_name": "Python [default]",
   "language": "python",
   "name": "python2"
  },
  "language_info": {
   "codemirror_mode": {
    "name": "ipython",
    "version": 2
   },
   "file_extension": ".py",
   "mimetype": "text/x-python",
   "name": "python",
   "nbconvert_exporter": "python",
   "pygments_lexer": "ipython2",
   "version": "2.7.12"
  }
 },
 "nbformat": 4,
 "nbformat_minor": 0
}
