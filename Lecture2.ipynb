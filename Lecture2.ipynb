{
 "cells": [
  {
   "cell_type": "markdown",
   "metadata": {
    "slideshow": {
     "slide_type": "slide"
    }
   },
   "source": [
    "# Lecture 1\n"
   ]
  },
  {
   "cell_type": "markdown",
   "metadata": {
    "slideshow": {
     "slide_type": "slide"
    }
   },
   "source": [
    "## Introduction: github and elementary python \n",
    "\n",
    "Jeremy Jacobson (jeremy.a.jacobson@emory.edu) [http://jeremyallenjacobson.github.io]\n",
    "\n",
    "The latest version of this [Jupyter notebook](http://jupyter.org/) lecture is available at [http://github.com/jeremyallenjacobson/PythonForDataScience](http://github.com/jeremyallenjacobson/PythonForDataScience).\n",
    "\n"
   ]
  }
 ],
 "metadata": {
  "anaconda-cloud": {},
  "annotations": {
   "categories": [
    "Data science"
   ],
   "date": "2016-09-12",
   "github": "https://github.com/jeremyallenjacobson/master/Lecture1.ipynb",
   "subtitle": "Introduction",
   "tags": [
    "learning",
    "python"
   ],
   "title": "Lecture 1"
  },
  "celltoolbar": "Slideshow",
  "kernelspec": {
   "display_name": "Python [Root]",
   "language": "python",
   "name": "Python [Root]"
  }
 },
 "nbformat": 4,
 "nbformat_minor": 0
}
